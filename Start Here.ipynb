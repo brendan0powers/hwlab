{
 "cells": [
  {
   "cell_type": "markdown",
   "metadata": {},
   "source": [
    "# Try interacting with the simulated hardware!\n",
    "\n",
    "* API Docs: [API.md](./API.md)\n",
    "* Hardware Docs [Simulated Hardware.md](./Simulated%20Hardware.md)\n",
    "\n",
    "### Things to try\n",
    "* Open a serial port, and communicate with the simulated hardware\n",
    "* Use the ReigsterMachine class to make communicating with the hardware easier\n",
    "* Try out the UI helpers registerReader, and registerWriter\n",
    "* Generate some with register 200, and then plot the resulting data\n",
    "* Attach a serial monitor to see the communications with the hardware"
   ]
  },
  {
   "cell_type": "code",
   "execution_count": 3,
   "metadata": {},
   "outputs": [],
   "source": [
    "import hwplatform as hw"
   ]
  },
  {
   "cell_type": "code",
   "execution_count": null,
   "metadata": {},
   "outputs": [],
   "source": []
  }
 ],
 "metadata": {
  "kernelspec": {
   "display_name": "Python 3",
   "language": "python",
   "name": "python3"
  },
  "language_info": {
   "codemirror_mode": {
    "name": "ipython",
    "version": 3
   },
   "file_extension": ".py",
   "mimetype": "text/x-python",
   "name": "python",
   "nbconvert_exporter": "python",
   "pygments_lexer": "ipython3",
   "version": "3.8.5"
  }
 },
 "nbformat": 4,
 "nbformat_minor": 4
}
